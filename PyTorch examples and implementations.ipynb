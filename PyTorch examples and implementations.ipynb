{
 "cells": [
  {
   "cell_type": "markdown",
   "metadata": {},
   "source": [
    "# PyTorch code examples\n",
    "An overview of PyTorch tutorials, implementations and research including code. The difficulty ranges from simple to advanced.\n",
    "\n",
    "## General\n",
    "The documented tutorials on PyTorch.org are highly recommended to get a general understanding of training neural networks in PyTorch.\n",
    "- Documented tutorials from PyTorch  [link](https://pytorch.org/tutorials/).  \n",
    "- Examples from PyTorch on GitHub [link](https://github.com/pytorch/examples).  \n",
    "- Plain code examples for PyTorch on GitHub: [link](https://github.com/yunjey/pytorch-tutorial).  \n",
    "- Dataloader tutorial [link](https://github.com/utkuozbulak/pytorch-custom-dataset-examples)\n",
    "\n",
    "\n",
    "## RNN   \n",
    "- Use a LSTM to predict a sine [link](https://github.com/pytorch/examples/tree/master/time_sequence_prediction)\n",
    "- Introduction to deep learning for natural language processing, recommended by Stanford University [link](https://github.com/rguthrie3/DeepLearningForNLPInPytorch)\n",
    "- Natural language processing by Stanford University [link](https://github.com/DSKSD/DeepNLP-models-Pytorch).  \n",
    "- Time series anomaly detection [link](https://github.com/chickenbestlover/RNN-Time-series-Anomaly-Detection).  \n",
    "\n",
    "\n",
    "## UNet  \n",
    "- Simple semantic segmentation example [link](https://github.com/usuyama/pytorch-unet).  \n",
    "- Semantic segmentation for a masking challange on Kaggle [link](https://github.com/milesial/Pytorch-UNet).  \n",
    "\n",
    "\n",
    "## GAN\n",
    "- CycleGAN and pix2pix, e.g. transforming a moving horse to a zebra. [link](https://github.com/junyanz/pytorch-CycleGAN-and-pix2pix).\n",
    "- Collection of PyTorch GAN implementations [link](https://github.com/eriklindernoren/PyTorch-GAN).\n",
    "\n",
    "\n",
    "## Audio\n",
    "- Real time text-to-speach with voice cloning [link](https://github.com/CorentinJ/Real-Time-Voice-Cloning)\n",
    "\n",
    "\n",
    "## Visualisations \n",
    "Examples that show how the input and output of a neural network are related and what happens at which layers.\n",
    "- CNN visualisations [link](https://github.com/utkuozbulak/pytorch-cnn-visualizations).  \n",
    "- ConvNet visualisations [link to video](https://www.youtube.com/watch?v=RNnKtNrsrmg)\n",
    "- Webbased tool for CNN visualisations [link](https://github.com/FrancescoSaverioZuppichini/mirror).\n",
    "\n",
    "\n",
    "## Other\n",
    "- Neural differential equations [link](https://github.com/DiffEqML/torchdyn)\n",
    "\n",
    "\n",
    "# Interesting reads\n",
    "- Google AI research blog: Looking back at 2019, and forward to 2020 and beyond [link](https://ai.googleblog.com/2020/01/google-research-looking-back-at-2019.html)  \n",
    "- Google AI blog on CNN visualisations [link](https://ai.googleblog.com/2015/06/inceptionism-going-deeper-into-neural.html).\n",
    "- AI art gallery GTC 2020 [link](https://www.nvidia.com/en-us/gtc/ai-art-gallery/artists/)\n",
    "- DeepMind blog [link](https://deepmind.com/blog)\n",
    "    - AlphaStar: Grandmaster level in StarCraft II [link](https://deepmind.com/blog/article/AlphaStar-Grandmaster-level-in-StarCraft-II-using-multi-agent-reinforcement-learning)\n",
    "    - AlphaGo - The Movie [link to video](https://www.youtube.com/watch?v=WXuK6gekU1Y)\n",
    "    - AlphaFold: Using AI for scientific discovery [link](https://deepmind.com/blog/article/AlphaFold-Using-AI-for-scientific-discovery)\n",
    "    - FermiNet: Quantum Physics & Chemistry simulations [link](https://deepmind.com/blog/article/FermiNet)  \n",
    "    - Outperforming the human Atari benchmark [link](https://deepmind.com/blog/article/Agent57-Outperforming-the-human-Atari-benchmark)\n",
    "    - Objects that sound [link](https://deepmind.com/blog/article/objects-that-sound)\n",
    "    - Towards understanding glasses with graph neural networks [link](https://deepmind.com/blog/article/Towards-understanding-glasses-with-graph-neural-networks)"
   ]
  },
  {
   "cell_type": "markdown",
   "metadata": {},
   "source": [
    "## TODO: \n",
    "\n",
    "- CPU, RAM, GPU, VRAM bottlenecks / optimization\n",
    "- Hyperparameter tuning\n",
    "- Non linear scaling\n",
    "- Validation methods\n",
    "- TimeSeries: Autoregressie voor onderbouwen time windows?"
   ]
  },
  {
   "cell_type": "code",
   "execution_count": null,
   "metadata": {},
   "outputs": [],
   "source": []
  }
 ],
 "metadata": {
  "kernelspec": {
   "display_name": "Python 3",
   "language": "python",
   "name": "python3"
  },
  "language_info": {
   "codemirror_mode": {
    "name": "ipython",
    "version": 3
   },
   "file_extension": ".py",
   "mimetype": "text/x-python",
   "name": "python",
   "nbconvert_exporter": "python",
   "pygments_lexer": "ipython3",
   "version": "3.7.3"
  }
 },
 "nbformat": 4,
 "nbformat_minor": 4
}
